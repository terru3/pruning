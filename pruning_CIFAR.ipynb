{
 "cells": [
  {
   "cell_type": "markdown",
   "id": "5202ad22-3c0d-4105-a252-bdc13e42faae",
   "metadata": {},
   "source": [
    "# Pruning / LTH (CIFAR-100)"
   ]
  },
  {
   "cell_type": "code",
   "execution_count": 1,
   "id": "f4cf368c-b887-46de-8afe-f6273fae1541",
   "metadata": {},
   "outputs": [],
   "source": [
    "import copy\n",
    "import json\n",
    "import sys\n",
    "\n",
    "import matplotlib.pyplot as plt\n",
    "import numpy as np\n",
    "import pandas as pd\n",
    "import torch\n",
    "import torch.nn as nn\n",
    "import torch.nn.functional as F\n",
    "import torch.optim as optim\n",
    "import torchvision\n",
    "from torchinfo import summary\n",
    "from torchvision import transforms\n",
    "from tqdm import tqdm"
   ]
  },
  {
   "cell_type": "code",
   "execution_count": 2,
   "id": "bf0e47a5-ef43-4648-a0be-b3c321766a25",
   "metadata": {},
   "outputs": [],
   "source": [
    "drive = None\n",
    "# from google.colab import drive\n",
    "# drive.mount('/content/drive')"
   ]
  },
  {
   "cell_type": "code",
   "execution_count": 3,
   "id": "c9621ac8-e70f-46bd-9a94-aa3dfb246a5d",
   "metadata": {},
   "outputs": [],
   "source": [
    "path = \"./\""
   ]
  },
  {
   "cell_type": "code",
   "execution_count": 4,
   "id": "15037760-5e85-4e1e-a228-ebb01f954baf",
   "metadata": {},
   "outputs": [],
   "source": [
    "device = torch.device(\"cuda\") if torch.cuda.is_available() else torch.device(\"cpu\")\n",
    "path = path if drive is None else \"/content/drive/MyDrive/self-learn/pruning\""
   ]
  },
  {
   "cell_type": "code",
   "execution_count": 5,
   "id": "8c53a791-c468-4836-838b-679842573e4e",
   "metadata": {},
   "outputs": [],
   "source": [
    "sys.path.append(path)"
   ]
  },
  {
   "cell_type": "code",
   "execution_count": 6,
   "id": "0e210a94-77eb-434d-9174-4e591d016470",
   "metadata": {},
   "outputs": [
    {
     "name": "stdout",
     "output_type": "stream",
     "text": [
      "Files already downloaded and verified\n",
      "Files already downloaded and verified\n"
     ]
    }
   ],
   "source": [
    "from constants import *\n",
    "from utils import (\n",
    "    set_seed,\n",
    "    train_data,\n",
    "    val_data,\n",
    "    train_loader,\n",
    "    val_loader,\n",
    "    fine_labels,\n",
    "    invTrans,\n",
    ")\n",
    "from models import get_model_and_optimizer\n",
    "\n",
    "set_seed()"
   ]
  },
  {
   "cell_type": "code",
   "execution_count": 7,
   "id": "7f847281-6cdb-4269-9fdf-57975d4aa9d7",
   "metadata": {},
   "outputs": [
    {
     "name": "stdout",
     "output_type": "stream",
     "text": [
      "Model Name: CNN_CIFAR_100_PRUNE_PCT_80\n"
     ]
    }
   ],
   "source": [
    "MODEL_NAME = f\"CNN_CIFAR_100_PRUNE_PCT_{PRUNE_PCT}\"\n",
    "print(\"Model Name:\", MODEL_NAME)"
   ]
  },
  {
   "cell_type": "code",
   "execution_count": 8,
   "id": "404fa4d3-2a09-4f14-8d54-6a20abbc7c98",
   "metadata": {},
   "outputs": [],
   "source": [
    "LOAD_MODEL_NAME = f\"CNN_CIFAR_100_PRUNE_PCT_0\""
   ]
  },
  {
   "cell_type": "code",
   "execution_count": 9,
   "id": "dc43e001-f3e9-4b1e-9a0f-2f1b720cdc25",
   "metadata": {},
   "outputs": [],
   "source": [
    "# each was trained for 20 epochs\n",
    "PRUNE_LOAD_EPOCH = 20\n",
    "PRUNE_LOAD_SEED = SEED\n",
    "\n",
    "PRUNE_MODEL_NAMES = [\n",
    "    f\"{MODEL_NAME}_CURR_PRUNE_PCT_{100*(1-((100-PRUNE_ITER_PCT)/100)**i):.0f}_EPOCH_{PRUNE_LOAD_EPOCH}_SEED_{PRUNE_LOAD_SEED}\"\n",
    "    for i in range(1, PRUNE_ITERS + 1)\n",
    "]"
   ]
  },
  {
   "cell_type": "markdown",
   "id": "80708e66-0e2f-4db2-82ec-b46d802f0ca3",
   "metadata": {},
   "source": [
    "# Data"
   ]
  },
  {
   "cell_type": "code",
   "execution_count": 11,
   "id": "7920c1c4-6133-4ae8-b3c5-7432b769060b",
   "metadata": {},
   "outputs": [],
   "source": [
    "# # expected: (BATCH_SIZE, 3, 32, 32), picture of mountain\n",
    "\n",
    "# batch = next(iter(train_loader))\n",
    "# print(batch[0].shape)\n",
    "# test_idx = 42\n",
    "# plt.imshow(batch[0][test_idx].permute(1,2,0))\n",
    "# plt.title(f'{fine_labels[batch[1][test_idx]]}')"
   ]
  },
  {
   "cell_type": "markdown",
   "id": "81b42b08-84c7-47b6-a81d-09f66f414db0",
   "metadata": {},
   "source": [
    "# Pruning utils"
   ]
  },
  {
   "cell_type": "code",
   "execution_count": 12,
   "id": "eeff347f-6714-42d1-a114-41358b75b230",
   "metadata": {},
   "outputs": [],
   "source": [
    "def init_params(m):\n",
    "    \"\"\"\n",
    "    Initializes params for model `m` given Conv2d, BatchNorm1d,  BatchNorm2d, Linear layers.\n",
    "    \"\"\"\n",
    "    if isinstance(m, nn.Conv2d):\n",
    "        nn.init.xavier_normal_(m.weight.data)\n",
    "        if m.bias is not None:\n",
    "            nn.init.normal_(m.bias.data)\n",
    "    elif isinstance(m, nn.BatchNorm2d):\n",
    "        nn.init.normal_(m.weight.data, mean=1, std=0.02)\n",
    "        nn.init.constant_(m.bias.data, 0)\n",
    "    elif isinstance(m, nn.Linear):\n",
    "        nn.init.xavier_normal_(m.weight.data)\n",
    "        nn.init.normal_(m.bias.data)"
   ]
  },
  {
   "cell_type": "code",
   "execution_count": 13,
   "id": "abf0ddb3-69d4-4589-971f-1888f77ee23a",
   "metadata": {},
   "outputs": [],
   "source": [
    "def reset_params(model, mask, init_state):\n",
    "    \"\"\"\n",
    "    Resets surviving model parameters to initial values\n",
    "    \"\"\"\n",
    "    step = 0\n",
    "    for name, param in model.named_parameters():\n",
    "        if \"weight\" in name:\n",
    "            param.data = torch.from_numpy(\n",
    "                init_state[name].cpu().numpy() * mask[step]\n",
    "            ).to(param.device)\n",
    "            step += 1\n",
    "        if \"bias\" in name:\n",
    "            param.data = init_state[name]"
   ]
  },
  {
   "cell_type": "code",
   "execution_count": 14,
   "id": "bb6f466f-7324-4678-a98a-f792571093fd",
   "metadata": {},
   "outputs": [],
   "source": [
    "def generate_init_mask(model):\n",
    "    \"\"\"\n",
    "    Generates initial mask matching the shape of model parameters.\n",
    "    Returns:\n",
    "        -Mask: List of length matching the number of weight layers in `m`, each of shape matching the corresponding weight tensor.\n",
    "    \"\"\"\n",
    "    weight_params = [\n",
    "        param.data.cpu().numpy()\n",
    "        for (name, param) in model.named_parameters()\n",
    "        if \"weight\" in name\n",
    "    ]\n",
    "    # TODO: maybe don't do this——could be unnecessarily memory intensive?\n",
    "    # if so, revert back to prev method: sum of weight in name to get the length, then down below loop through actual model\n",
    "    mask = [None] * len(weight_params)\n",
    "\n",
    "    step = 0\n",
    "    for param in weight_params:\n",
    "        mask[step] = np.ones_like(param)\n",
    "        step = step + 1\n",
    "    return mask"
   ]
  },
  {
   "cell_type": "code",
   "execution_count": 15,
   "id": "e83761ac-93b3-40bc-9d68-bcd11e575594",
   "metadata": {},
   "outputs": [],
   "source": [
    "def load_mask(model):\n",
    "    \"\"\"\n",
    "    Generates mask for a given model indicating which parameters are remaining.\n",
    "    \"\"\"\n",
    "    weight_params = [\n",
    "        param.data.cpu().numpy()\n",
    "        for (name, param) in model.named_parameters()\n",
    "        if \"weight\" in name\n",
    "    ]\n",
    "    mask = [None] * len(weight_params)\n",
    "\n",
    "    step = 0\n",
    "    for param in weight_params:\n",
    "        mask[step] = np.where(param == 0, param, 1)\n",
    "        step = step + 1\n",
    "    return mask"
   ]
  },
  {
   "cell_type": "code",
   "execution_count": 16,
   "id": "da1b8b19-cfd6-4f0a-838c-b3a287faf97a",
   "metadata": {},
   "outputs": [],
   "source": [
    "def get_layer_weight_names(model):\n",
    "    \"\"\"\n",
    "    Returns a list of weight layer names of model `m`.\n",
    "    \"\"\"\n",
    "    layer_weight_names = []\n",
    "    for name, _ in model.named_parameters():\n",
    "        if \"weight\" in name:\n",
    "            layer_weight_names.append(name.split(\".weight\")[0])\n",
    "    return layer_weight_names"
   ]
  },
  {
   "cell_type": "code",
   "execution_count": 17,
   "id": "370a251a-883c-4341-9b10-6ff69858ad01",
   "metadata": {},
   "outputs": [],
   "source": [
    "def get_num_weight_params_by_layer(mask):\n",
    "    \"\"\"\n",
    "    Returns number of surviving (nonzero) weight parameters in a pruned model via its binary mask, by layer.\n",
    "    \"\"\"\n",
    "    return [np.count_nonzero(mask[i]) for i in range(len(mask))]"
   ]
  },
  {
   "cell_type": "code",
   "execution_count": 18,
   "id": "8054d353-b695-4d50-bc88-f4b3a6f039d4",
   "metadata": {},
   "outputs": [],
   "source": [
    "def prune_by_percent(model, mask, pct):\n",
    "    \"\"\"\n",
    "    Prunes `pct`% of parameters of model `m`, and modifies the pruning mask in-place as well.\n",
    "    Specifically, this is done layerwise (p% of weights for each layer).\n",
    "    \"\"\"\n",
    "    assert (\n",
    "        isinstance(pct, (int, float)) and 0 <= pct and pct <= 100\n",
    "    ), \"`pct` must be a numeric value between 0 and 100 (inclusive).\"\n",
    "    step = 0\n",
    "    for name, param in model.named_parameters():\n",
    "        if \"weight\" in name:\n",
    "            p_data_all = param.data.cpu().numpy()\n",
    "            # flattened nonzero weights\n",
    "            p_data = p_data_all[np.nonzero(p_data_all)]\n",
    "\n",
    "            cutoff_val = np.percentile(\n",
    "                np.abs(p_data), pct\n",
    "            )  # percentile calculated on surviving params\n",
    "            new_mask = np.where(np.abs(p_data_all) <= cutoff_val, 0, mask[step])\n",
    "            param.data = torch.from_numpy(p_data_all * new_mask).to(param.device)\n",
    "            mask[step] = new_mask\n",
    "            step += 1"
   ]
  },
  {
   "cell_type": "code",
   "execution_count": 19,
   "id": "82d77ad9-ee20-4714-aeb7-4da01511bb0c",
   "metadata": {},
   "outputs": [],
   "source": [
    "def eval(model, val_loader, criterion, device):\n",
    "    val_losses = []\n",
    "    correct = 0\n",
    "    model.eval()\n",
    "\n",
    "    with torch.no_grad():\n",
    "        for i, (img, label) in enumerate(val_loader):\n",
    "\n",
    "            img, label = img.to(device), label.to(device)\n",
    "            out = model(img)\n",
    "\n",
    "            loss_eval = criterion(out, label)\n",
    "            val_losses.append(loss_eval.item())\n",
    "\n",
    "            pred = out.argmax(dim=1, keepdim=True)\n",
    "            correct += pred.eq(label.view_as(pred)).sum().item()\n",
    "\n",
    "    val_loss = np.mean(val_losses)\n",
    "    val_acc = correct / ((len(val_loader) - 1) * BATCH_SIZE + label.size(0))\n",
    "\n",
    "    return val_loss, val_acc"
   ]
  },
  {
   "cell_type": "code",
   "execution_count": 20,
   "id": "da45ed94-79f3-4a2f-a703-688ad288c031",
   "metadata": {},
   "outputs": [],
   "source": [
    "# ## archived: initial 100 epoch training\n",
    "# def initial_train(model, train_loader, val_loader, optimizer, criterion, device):\n",
    "#     model.train()\n",
    "#     train_losses, val_losses = [], []\n",
    "#     val_accuracies = []\n",
    "#     for epoch in range(EPOCHS):\n",
    "\n",
    "#         print(f\"Epoch {epoch+1}/{EPOCHS}\")\n",
    "\n",
    "#         # compute val acc every epoch\n",
    "#         val_loss, val_acc = eval(model, val_loader, criterion, device)\n",
    "#         val_losses.append(val_loss)\n",
    "#         val_accuracies.append(val_acc)\n",
    "#         print(f\"Val Loss: {val_loss:.3f} | Val Acc: {val_acc:.3f}\")\n",
    "#         model.train()\n",
    "\n",
    "#         for step, (img, label) in enumerate(train_loader):\n",
    "\n",
    "#             img, label = img.to(device), label.to(device)\n",
    "#             optimizer.zero_grad()\n",
    "#             out = model(img)\n",
    "#             loss = criterion(out, label)\n",
    "#             train_losses.append(loss.item()) # every step\n",
    "#             loss.backward()\n",
    "\n",
    "#             # Monitoring overall gradient norm\n",
    "#             grads = [\n",
    "#                     param.grad.detach().flatten()\n",
    "#                     for param in model.parameters()\n",
    "#                     if param.grad is not None\n",
    "#                 ]\n",
    "#             norm = torch.cat(grads).norm()\n",
    "\n",
    "#             optimizer.step()\n",
    "\n",
    "#             if step % PRINT_ITERS == 0:\n",
    "#                 print(f\"Step: {step}/{len(train_loader)} | Running Average Loss: {np.mean(train_losses):.3f} | Grad Norm: {norm:.2f}\")\n",
    "\n",
    "#         torch.save(\n",
    "#             {\n",
    "#                 \"model_state_dict\": model.state_dict(),\n",
    "#                 \"optimizer_state_dict\": optimizer.state_dict(),\n",
    "#             },\n",
    "#             f\"{path}/checkpoints/{MODEL_NAME}_EPOCH_{epoch+1}_SEED_{SEED}.pt\",\n",
    "#         )\n",
    "\n",
    "#         with open(\n",
    "#             f\"{path}/train_logs/{MODEL_NAME}_SEED_{SEED}_train_losses.json\", \"w\"\n",
    "#         ) as f:\n",
    "#             json.dump(train_losses, f)\n",
    "\n",
    "#         with open(\n",
    "#             f\"{path}/train_logs/{MODEL_NAME}_SEED_{SEED}_val_losses.json\", \"w\"\n",
    "#         ) as f2:\n",
    "#             json.dump(val_losses, f2)\n",
    "\n",
    "#         with open(\n",
    "#             f\"{path}/train_logs/{MODEL_NAME}_SEED_{SEED}_val_accuracies.json\", \"w\"\n",
    "#         ) as f3:\n",
    "#             json.dump(val_accuracies, f3)\n",
    "\n",
    "#     return train_losses, val_losses, val_accuracies"
   ]
  },
  {
   "cell_type": "code",
   "execution_count": 21,
   "id": "aa1e076c-a6b4-42b3-9401-b36769cc2363",
   "metadata": {},
   "outputs": [],
   "source": [
    "# set_seed()\n",
    "# model = Net().to(device)\n",
    "# model.apply(init_params)\n",
    "\n",
    "# optimizer = optim.AdamW(model.parameters(), lr=LR)\n",
    "# criterion = nn.CrossEntropyLoss()\n",
    "\n",
    "# # CPU: ~10 min/epoch, T4: ~45 sec\n",
    "# train_losses, val_losses, val_accuracies = initial_train(model, train_loader, val_loader, optimizer, criterion, device)"
   ]
  },
  {
   "cell_type": "markdown",
   "id": "68849d4b-f3b7-44ff-9937-04c143a795e8",
   "metadata": {},
   "source": [
    "# Pruning"
   ]
  },
  {
   "cell_type": "code",
   "execution_count": 22,
   "id": "5c2c00d7-f220-4409-8220-4a3be08881bb",
   "metadata": {},
   "outputs": [],
   "source": [
    "def prune_train(model, train_loader, optimizer, criterion, model_pruned_pct, device):\n",
    "\n",
    "    print(f\"Training model with {model_pruned_pct:.2f}% pruned\")\n",
    "    model.train()\n",
    "    train_losses, val_losses = [], []\n",
    "    val_accuracies = []\n",
    "    for epoch in range(EPOCHS):\n",
    "\n",
    "        print(f\"Epoch {epoch+1}/{EPOCHS}\")\n",
    "\n",
    "        for step, (img, label) in enumerate(train_loader):\n",
    "\n",
    "            img, label = img.to(device), label.to(device)\n",
    "            optimizer.zero_grad()\n",
    "            out = model(img)\n",
    "            loss = criterion(out, label)\n",
    "            train_losses.append(loss.item())  # every step\n",
    "            loss.backward()\n",
    "\n",
    "            # Monitoring overall gradient norm\n",
    "            grads = [\n",
    "                param.grad.detach().flatten()\n",
    "                for param in model.parameters()\n",
    "                if param.grad is not None\n",
    "            ]\n",
    "            norm = torch.cat(grads).norm()\n",
    "\n",
    "            # Disallow pruned weights from receiving gradient updates\n",
    "            for name, p in model.named_parameters():\n",
    "                if \"weight\" in name:\n",
    "                    p_data, p_grad = p.data.cpu().numpy(), p.grad.data.cpu().numpy()\n",
    "                    p_grad = np.where(np.abs(p_data) < EPS, 0, p_grad)\n",
    "                    p.grad.data = torch.from_numpy(p_grad).to(device)\n",
    "\n",
    "            optimizer.step()\n",
    "\n",
    "            ####### TEMP\n",
    "            print(\"step ends after one, no evaluating val rn for debugging\")\n",
    "            if step == 0:\n",
    "                break\n",
    "\n",
    "            if step % PRINT_ITERS == 0:\n",
    "                print(\n",
    "                    f\"Step: {step}/{len(train_loader)} | Running Average Loss: {np.mean(train_losses):.3f} | Grad Norm: {norm:.2f}\"\n",
    "                )\n",
    "\n",
    "        # compute val acc at the end of every epoch\n",
    "\n",
    "        ####### TEMP COMMENTED OUT ALSO\n",
    "\n",
    "        # val_loss, val_acc = eval(model, val_loader, criterion, device)\n",
    "        # val_losses.append(val_loss)\n",
    "        # val_accuracies.append(val_acc)\n",
    "        # print(f\"Val Loss: {val_loss:.3f} | Val Acc: {val_acc:.3f}\")\n",
    "        # model.train()\n",
    "\n",
    "        torch.save(\n",
    "            {\n",
    "                \"model_state_dict\": model.state_dict(),\n",
    "                \"optimizer_state_dict\": optimizer.state_dict(),\n",
    "            },\n",
    "            f\"{path}/checkpoints/{MODEL_NAME}_CURR_PRUNE_PCT_{model_pruned_pct:.0f}_EPOCH_{epoch+1}_SEED_{SEED}.pt\",\n",
    "        )\n",
    "\n",
    "        with open(\n",
    "            f\"{path}/train_logs/{MODEL_NAME}_CURR_PRUNE_PCT_{model_pruned_pct:.0f}_SEED_{SEED}_train_losses.json\",\n",
    "            \"w\",\n",
    "        ) as f:\n",
    "            json.dump(train_losses, f)\n",
    "\n",
    "        with open(\n",
    "            f\"{path}/train_logs/{MODEL_NAME}_CURR_PRUNE_PCT_{model_pruned_pct:.0f}_SEED_{SEED}_val_losses.json\",\n",
    "            \"w\",\n",
    "        ) as f2:\n",
    "            json.dump(val_losses, f2)\n",
    "\n",
    "        with open(\n",
    "            f\"{path}/train_logs/{MODEL_NAME}_CURR_PRUNE_PCT_{model_pruned_pct:.0f}_SEED_{SEED}_val_accuracies.json\",\n",
    "            \"w\",\n",
    "        ) as f3:\n",
    "            json.dump(val_accuracies, f3)"
   ]
  },
  {
   "cell_type": "markdown",
   "id": "8a05f23d-2ac3-404a-b8e3-e8a0606c5669",
   "metadata": {},
   "source": [
    "# Driver code"
   ]
  },
  {
   "cell_type": "code",
   "execution_count": 23,
   "id": "40876219-9de3-417c-8216-850f40ba44a7",
   "metadata": {},
   "outputs": [
    {
     "name": "stdout",
     "output_type": "stream",
     "text": [
      "Base model loaded\n"
     ]
    }
   ],
   "source": [
    "LOAD_EPOCH = 100\n",
    "\n",
    "base_model, _ = get_model_and_optimizer()\n",
    "base_model.load_state_dict(\n",
    "    torch.load(\n",
    "        f\"{path}/checkpoints/{LOAD_MODEL_NAME}_EPOCH_{LOAD_EPOCH}_SEED_{SEED}.pt\",\n",
    "        map_location=device,\n",
    "    )[\"model_state_dict\"]\n",
    ")\n",
    "base_model.to(device)\n",
    "print(\"Base model loaded\")"
   ]
  },
  {
   "cell_type": "code",
   "execution_count": 24,
   "id": "749de796-12da-413c-b68f-f739a71c3b50",
   "metadata": {},
   "outputs": [],
   "source": [
    "init_state = copy.deepcopy(base_model.state_dict())\n",
    "mask = generate_init_mask(base_model)\n",
    "layer_names = get_layer_weight_names(base_model)\n",
    "\n",
    "init_num_weight_params_by_layer = get_num_weight_params_by_layer(mask)\n",
    "init_num_weight_params = sum(init_num_weight_params_by_layer)\n",
    "\n",
    "# cannot use Adam——momentum stats cause frozen weights to continue to receive updates\n",
    "# optimizer = optim.AdamW(model.parameters(), lr=LR)\n",
    "# could also use SGD ig\n",
    "\n",
    "# optimizer = optim.RMSprop(model.parameters(), lr=LR)\n",
    "\n",
    "criterion = nn.CrossEntropyLoss()"
   ]
  },
  {
   "cell_type": "code",
   "execution_count": 27,
   "id": "9ad50cf7-a8f9-463b-9bef-ef3ee1e6d512",
   "metadata": {},
   "outputs": [
    {
     "name": "stdout",
     "output_type": "stream",
     "text": [
      "Model and optimizer loaded\n"
     ]
    }
   ],
   "source": [
    "### This cell's purpose: OVERWRITE ABOVE IF LOADING\n",
    "# load in pruned model in the middle of training to continue\n",
    "PRUNE_ITER = 20\n",
    "model, optimizer = get_model_and_optimizer(optimizer=\"RMSprop\")\n",
    "model.load_state_dict(\n",
    "    torch.load(\n",
    "        f\"{path}/checkpoints/{PRUNE_MODEL_NAMES[PRUNE_ITER-1]}.pt\", map_location=device\n",
    "    )[\"model_state_dict\"]\n",
    ")\n",
    "model.to(device)\n",
    "optimizer.load_state_dict(\n",
    "    torch.load(\n",
    "        f\"{path}/checkpoints/{PRUNE_MODEL_NAMES[PRUNE_ITER-1]}.pt\", map_location=device\n",
    "    )[\"optimizer_state_dict\"]\n",
    ")\n",
    "print(\"Model and optimizer loaded\")\n",
    "\n",
    "mask = load_mask(model)"
   ]
  },
  {
   "cell_type": "code",
   "execution_count": 34,
   "id": "1caaea65-4e41-41f9-9811-197deb877b3d",
   "metadata": {},
   "outputs": [],
   "source": [
    "## archived\n",
    "\n",
    "# orig_model_metrics = eval(base_model, val_loader, criterion, device)\n",
    "\n",
    "# df = pd.DataFrame(columns = [\"prune_iter\", \"pct_params\", \"pct_pruned\", \"val_loss\", \"val_acc\"])\n",
    "# # populate with original model\n",
    "# df.loc[0] = {\"prune_iter\": 0, \"pct_params\": 100.00, \"pct_pruned\": 0.00,\n",
    "#              \"val_loss\": orig_model_metrics[0], \"val_acc\": orig_model_metrics[1]}\n",
    "# df"
   ]
  },
  {
   "cell_type": "markdown",
   "id": "0dccfad2-bbc2-4c49-b81a-5f201092773a",
   "metadata": {},
   "source": [
    "# –––––––––"
   ]
  },
  {
   "cell_type": "code",
   "execution_count": 43,
   "id": "69301a0e-767c-48ef-90e6-a51e8dc8038f",
   "metadata": {},
   "outputs": [
    {
     "name": "stdout",
     "output_type": "stream",
     "text": [
      "Prune Iteration 1/20\n",
      "Number of weight parameters: 1684443/1825600 ≈ 92.27%\n",
      "Weight breakdown:\n",
      "  conv1          : 1594/1728\n",
      "  conv2          : 68027/73728\n",
      "  conv3          : 272109/294912\n",
      "  conv4          : 1088438/1179648\n",
      "  batchnorm2d_1  : 118/128\n",
      "  batchnorm2d_2  : 472/512\n",
      "  fc1            : 241875/262144\n",
      "  fc2            : 11810/12800\n",
      "\n",
      "Training model with 7.73% pruned\n",
      "Epoch 1/1\n",
      "step ends after one, no evaluating val rn for debugging\n",
      "\n",
      "Prune Iteration 2/20\n",
      "Number of weight parameters: 1554198/1825600 ≈ 85.13%\n",
      "Weight breakdown:\n",
      "  conv1          : 1470/1728\n",
      "  conv2          : 62767/73728\n",
      "  conv3          : 251069/294912\n",
      "  conv4          : 1004280/1179648\n",
      "  batchnorm2d_1  : 108/128\n",
      "  batchnorm2d_2  : 435/512\n",
      "  fc1            : 223173/262144\n",
      "  fc2            : 10896/12800\n",
      "\n",
      "Training model with 14.87% pruned\n",
      "Epoch 1/1\n",
      "step ends after one, no evaluating val rn for debugging\n",
      "\n",
      "Prune Iteration 3/20\n",
      "Number of weight parameters: 1434024/1825600 ≈ 78.55%\n",
      "Weight breakdown:\n",
      "  conv1          : 1356/1728\n",
      "  conv2          : 57913/73728\n",
      "  conv3          : 231656/294912\n",
      "  conv4          : 926629/1179648\n",
      "  batchnorm2d_1  : 99/128\n",
      "  batchnorm2d_2  : 401/512\n",
      "  fc1            : 205917/262144\n",
      "  fc2            : 10053/12800\n",
      "\n",
      "Training model with 21.45% pruned\n",
      "Epoch 1/1\n"
     ]
    },
    {
     "ename": "KeyboardInterrupt",
     "evalue": "",
     "output_type": "error",
     "traceback": [
      "\u001b[0;31m---------------------------------------------------------------------------\u001b[0m",
      "\u001b[0;31mKeyboardInterrupt\u001b[0m                         Traceback (most recent call last)",
      "Cell \u001b[0;32mIn[43], line 26\u001b[0m\n\u001b[1;32m     22\u001b[0m \u001b[38;5;28mprint\u001b[39m()\n\u001b[1;32m     24\u001b[0m \u001b[38;5;66;03m# TRAIN HERE, for j iterations\u001b[39;00m\n\u001b[1;32m     25\u001b[0m \u001b[38;5;66;03m################################################ TEMP COMMENTED OUT FOR DEBUGGING\u001b[39;00m\n\u001b[0;32m---> 26\u001b[0m \u001b[43mprune_train\u001b[49m\u001b[43m(\u001b[49m\u001b[43mmodel\u001b[49m\u001b[43m,\u001b[49m\u001b[43m \u001b[49m\u001b[43mtrain_loader\u001b[49m\u001b[43m,\u001b[49m\u001b[43m \u001b[49m\u001b[43moptimizer\u001b[49m\u001b[43m,\u001b[49m\u001b[43m \u001b[49m\u001b[43mcriterion\u001b[49m\u001b[43m,\u001b[49m\u001b[43m \u001b[49m\u001b[43mmodel_pruned_pct\u001b[49m\u001b[43m,\u001b[49m\u001b[43m \u001b[49m\u001b[43mdevice\u001b[49m\u001b[43m)\u001b[49m\n\u001b[1;32m     27\u001b[0m \u001b[38;5;28mprint\u001b[39m()\n\u001b[1;32m     29\u001b[0m \u001b[38;5;66;03m# TODO: how to set j? simply train to convergence again?\u001b[39;00m\n\u001b[1;32m     30\u001b[0m \n\u001b[1;32m     31\u001b[0m \u001b[38;5;66;03m# evaluate and save statistics\u001b[39;00m\n\u001b[0;32m   (...)\u001b[0m\n\u001b[1;32m     35\u001b[0m \n\u001b[1;32m     36\u001b[0m \u001b[38;5;66;03m## TEMP to avoid time consuming evaluation\u001b[39;00m\n",
      "Cell \u001b[0;32mIn[19], line 18\u001b[0m, in \u001b[0;36mprune_train\u001b[0;34m(model, train_loader, optimizer, criterion, model_pruned_pct, device)\u001b[0m\n\u001b[1;32m     16\u001b[0m loss \u001b[38;5;241m=\u001b[39m criterion(out, label)\n\u001b[1;32m     17\u001b[0m train_losses\u001b[38;5;241m.\u001b[39mappend(loss\u001b[38;5;241m.\u001b[39mitem()) \u001b[38;5;66;03m# every step\u001b[39;00m\n\u001b[0;32m---> 18\u001b[0m \u001b[43mloss\u001b[49m\u001b[38;5;241;43m.\u001b[39;49m\u001b[43mbackward\u001b[49m\u001b[43m(\u001b[49m\u001b[43m)\u001b[49m\n\u001b[1;32m     20\u001b[0m \u001b[38;5;66;03m# Monitoring overall gradient norm\u001b[39;00m\n\u001b[1;32m     21\u001b[0m grads \u001b[38;5;241m=\u001b[39m [\n\u001b[1;32m     22\u001b[0m         param\u001b[38;5;241m.\u001b[39mgrad\u001b[38;5;241m.\u001b[39mdetach()\u001b[38;5;241m.\u001b[39mflatten()\n\u001b[1;32m     23\u001b[0m         \u001b[38;5;28;01mfor\u001b[39;00m param \u001b[38;5;129;01min\u001b[39;00m model\u001b[38;5;241m.\u001b[39mparameters()\n\u001b[1;32m     24\u001b[0m         \u001b[38;5;28;01mif\u001b[39;00m param\u001b[38;5;241m.\u001b[39mgrad \u001b[38;5;129;01mis\u001b[39;00m \u001b[38;5;129;01mnot\u001b[39;00m \u001b[38;5;28;01mNone\u001b[39;00m\n\u001b[1;32m     25\u001b[0m     ]\n",
      "File \u001b[0;32m~/opt/miniconda3/envs/self-learn/lib/python3.11/site-packages/torch/_tensor.py:492\u001b[0m, in \u001b[0;36mTensor.backward\u001b[0;34m(self, gradient, retain_graph, create_graph, inputs)\u001b[0m\n\u001b[1;32m    482\u001b[0m \u001b[38;5;28;01mif\u001b[39;00m has_torch_function_unary(\u001b[38;5;28mself\u001b[39m):\n\u001b[1;32m    483\u001b[0m     \u001b[38;5;28;01mreturn\u001b[39;00m handle_torch_function(\n\u001b[1;32m    484\u001b[0m         Tensor\u001b[38;5;241m.\u001b[39mbackward,\n\u001b[1;32m    485\u001b[0m         (\u001b[38;5;28mself\u001b[39m,),\n\u001b[0;32m   (...)\u001b[0m\n\u001b[1;32m    490\u001b[0m         inputs\u001b[38;5;241m=\u001b[39minputs,\n\u001b[1;32m    491\u001b[0m     )\n\u001b[0;32m--> 492\u001b[0m \u001b[43mtorch\u001b[49m\u001b[38;5;241;43m.\u001b[39;49m\u001b[43mautograd\u001b[49m\u001b[38;5;241;43m.\u001b[39;49m\u001b[43mbackward\u001b[49m\u001b[43m(\u001b[49m\n\u001b[1;32m    493\u001b[0m \u001b[43m    \u001b[49m\u001b[38;5;28;43mself\u001b[39;49m\u001b[43m,\u001b[49m\u001b[43m \u001b[49m\u001b[43mgradient\u001b[49m\u001b[43m,\u001b[49m\u001b[43m \u001b[49m\u001b[43mretain_graph\u001b[49m\u001b[43m,\u001b[49m\u001b[43m \u001b[49m\u001b[43mcreate_graph\u001b[49m\u001b[43m,\u001b[49m\u001b[43m \u001b[49m\u001b[43minputs\u001b[49m\u001b[38;5;241;43m=\u001b[39;49m\u001b[43minputs\u001b[49m\n\u001b[1;32m    494\u001b[0m \u001b[43m\u001b[49m\u001b[43m)\u001b[49m\n",
      "File \u001b[0;32m~/opt/miniconda3/envs/self-learn/lib/python3.11/site-packages/torch/autograd/__init__.py:251\u001b[0m, in \u001b[0;36mbackward\u001b[0;34m(tensors, grad_tensors, retain_graph, create_graph, grad_variables, inputs)\u001b[0m\n\u001b[1;32m    246\u001b[0m     retain_graph \u001b[38;5;241m=\u001b[39m create_graph\n\u001b[1;32m    248\u001b[0m \u001b[38;5;66;03m# The reason we repeat the same comment below is that\u001b[39;00m\n\u001b[1;32m    249\u001b[0m \u001b[38;5;66;03m# some Python versions print out the first line of a multi-line function\u001b[39;00m\n\u001b[1;32m    250\u001b[0m \u001b[38;5;66;03m# calls in the traceback and some print out the last line\u001b[39;00m\n\u001b[0;32m--> 251\u001b[0m \u001b[43mVariable\u001b[49m\u001b[38;5;241;43m.\u001b[39;49m\u001b[43m_execution_engine\u001b[49m\u001b[38;5;241;43m.\u001b[39;49m\u001b[43mrun_backward\u001b[49m\u001b[43m(\u001b[49m\u001b[43m  \u001b[49m\u001b[38;5;66;43;03m# Calls into the C++ engine to run the backward pass\u001b[39;49;00m\n\u001b[1;32m    252\u001b[0m \u001b[43m    \u001b[49m\u001b[43mtensors\u001b[49m\u001b[43m,\u001b[49m\n\u001b[1;32m    253\u001b[0m \u001b[43m    \u001b[49m\u001b[43mgrad_tensors_\u001b[49m\u001b[43m,\u001b[49m\n\u001b[1;32m    254\u001b[0m \u001b[43m    \u001b[49m\u001b[43mretain_graph\u001b[49m\u001b[43m,\u001b[49m\n\u001b[1;32m    255\u001b[0m \u001b[43m    \u001b[49m\u001b[43mcreate_graph\u001b[49m\u001b[43m,\u001b[49m\n\u001b[1;32m    256\u001b[0m \u001b[43m    \u001b[49m\u001b[43minputs\u001b[49m\u001b[43m,\u001b[49m\n\u001b[1;32m    257\u001b[0m \u001b[43m    \u001b[49m\u001b[43mallow_unreachable\u001b[49m\u001b[38;5;241;43m=\u001b[39;49m\u001b[38;5;28;43;01mTrue\u001b[39;49;00m\u001b[43m,\u001b[49m\n\u001b[1;32m    258\u001b[0m \u001b[43m    \u001b[49m\u001b[43maccumulate_grad\u001b[49m\u001b[38;5;241;43m=\u001b[39;49m\u001b[38;5;28;43;01mTrue\u001b[39;49;00m\u001b[43m,\u001b[49m\n\u001b[1;32m    259\u001b[0m \u001b[43m\u001b[49m\u001b[43m)\u001b[49m\n",
      "\u001b[0;31mKeyboardInterrupt\u001b[0m: "
     ]
    }
   ],
   "source": [
    "for prune_iter in range(PRUNE_ITERS):\n",
    "\n",
    "    print(f\"Prune Iteration {prune_iter+1}/{PRUNE_ITERS}\")\n",
    "\n",
    "    # prune\n",
    "    prune_by_percent(model, mask, PRUNE_ITER_PCT)\n",
    "\n",
    "    # reset remaining parameters to init state\n",
    "    reset_params(model, mask, init_state)\n",
    "\n",
    "    # log statistics\n",
    "    num_weight_params_by_layer = get_num_weight_params_by_layer(mask)\n",
    "    model_param_pct = (sum(num_weight_params_by_layer) / init_num_weight_params) * 100\n",
    "    model_pruned_pct = 100 - model_param_pct\n",
    "    print(\n",
    "        f\"Number of weight parameters: {sum(num_weight_params_by_layer)}/{init_num_weight_params} ≈ {model_param_pct:.2f}%\"\n",
    "    )\n",
    "\n",
    "    ## create list of proportion of surviving weights (as strings) (e.g. ['72/734', '49/626'])\n",
    "    params_props = [\n",
    "        f\"{num_weight_params_by_layer[i]}\"\n",
    "        + \"/\"\n",
    "        + f\"{init_num_weight_params_by_layer[i]}\"\n",
    "        for i in range(len(mask))\n",
    "    ]\n",
    "    print(\"Weight breakdown:\")\n",
    "    for i, name in enumerate(layer_names):\n",
    "        print(f\"  {name: <15}: {params_props[i]: <}\")\n",
    "    print()\n",
    "\n",
    "    # train\n",
    "    prune_train(model, train_loader, optimizer, criterion, model_pruned_pct, device)\n",
    "    print()\n",
    "\n",
    "    # evaluate and save statistics\n",
    "    model_metrics = eval(model, val_loader, criterion, device)\n",
    "    df.loc[prune_iter + 1] = {\n",
    "        \"prune_iter\": prune_iter + 1,\n",
    "        \"pct_params\": model_param_pct,\n",
    "        \"pct_pruned\": model_pruned_pct,\n",
    "        \"val_loss\": model_metrics[0],\n",
    "        \"val_acc\": model_metrics[1],\n",
    "    }\n",
    "    df.to_csv(f\"{path}/train_logs/{MODEL_NAME}_SEED_{SEED}_prune_stats.csv\")"
   ]
  },
  {
   "cell_type": "code",
   "execution_count": 44,
   "id": "d1606d90-8f7a-4714-932d-e49764c886fd",
   "metadata": {},
   "outputs": [],
   "source": [
    "df = pd.read_csv(\n",
    "    f\"{path}/train_logs/{MODEL_NAME}_SEED_{SEED}_prune_stats.csv\", index_col=0\n",
    ")"
   ]
  },
  {
   "cell_type": "code",
   "execution_count": 45,
   "id": "47d5eba9-934b-407f-882d-e05cd7b2b473",
   "metadata": {},
   "outputs": [
    {
     "data": {
      "text/html": [
       "<div>\n",
       "<style scoped>\n",
       "    .dataframe tbody tr th:only-of-type {\n",
       "        vertical-align: middle;\n",
       "    }\n",
       "\n",
       "    .dataframe tbody tr th {\n",
       "        vertical-align: top;\n",
       "    }\n",
       "\n",
       "    .dataframe thead th {\n",
       "        text-align: right;\n",
       "    }\n",
       "</style>\n",
       "<table border=\"1\" class=\"dataframe\">\n",
       "  <thead>\n",
       "    <tr style=\"text-align: right;\">\n",
       "      <th></th>\n",
       "      <th>prune_iter</th>\n",
       "      <th>pct_params</th>\n",
       "      <th>pct_pruned</th>\n",
       "      <th>val_loss</th>\n",
       "      <th>val_acc</th>\n",
       "      <th>total_params</th>\n",
       "    </tr>\n",
       "  </thead>\n",
       "  <tbody>\n",
       "    <tr>\n",
       "      <th>0</th>\n",
       "      <td>0</td>\n",
       "      <td>100.000000</td>\n",
       "      <td>0.000000</td>\n",
       "      <td>1.661085</td>\n",
       "      <td>0.5688</td>\n",
       "      <td>1825600</td>\n",
       "    </tr>\n",
       "    <tr>\n",
       "      <th>1</th>\n",
       "      <td>1</td>\n",
       "      <td>92.268083</td>\n",
       "      <td>7.731917</td>\n",
       "      <td>1.673737</td>\n",
       "      <td>0.5743</td>\n",
       "      <td>1684443</td>\n",
       "    </tr>\n",
       "    <tr>\n",
       "      <th>2</th>\n",
       "      <td>2</td>\n",
       "      <td>85.133992</td>\n",
       "      <td>14.866008</td>\n",
       "      <td>1.670693</td>\n",
       "      <td>0.5734</td>\n",
       "      <td>1554199</td>\n",
       "    </tr>\n",
       "    <tr>\n",
       "      <th>3</th>\n",
       "      <td>3</td>\n",
       "      <td>78.551503</td>\n",
       "      <td>21.448497</td>\n",
       "      <td>1.664055</td>\n",
       "      <td>0.5702</td>\n",
       "      <td>1434025</td>\n",
       "    </tr>\n",
       "    <tr>\n",
       "      <th>4</th>\n",
       "      <td>4</td>\n",
       "      <td>72.477966</td>\n",
       "      <td>27.522034</td>\n",
       "      <td>1.667381</td>\n",
       "      <td>0.5656</td>\n",
       "      <td>1323144</td>\n",
       "    </tr>\n",
       "    <tr>\n",
       "      <th>5</th>\n",
       "      <td>5</td>\n",
       "      <td>66.874030</td>\n",
       "      <td>33.125970</td>\n",
       "      <td>1.669349</td>\n",
       "      <td>0.5628</td>\n",
       "      <td>1220836</td>\n",
       "    </tr>\n",
       "    <tr>\n",
       "      <th>6</th>\n",
       "      <td>6</td>\n",
       "      <td>61.703386</td>\n",
       "      <td>38.296614</td>\n",
       "      <td>1.714879</td>\n",
       "      <td>0.5505</td>\n",
       "      <td>1126438</td>\n",
       "    </tr>\n",
       "    <tr>\n",
       "      <th>7</th>\n",
       "      <td>7</td>\n",
       "      <td>56.932532</td>\n",
       "      <td>43.067468</td>\n",
       "      <td>1.718672</td>\n",
       "      <td>0.5480</td>\n",
       "      <td>1039339</td>\n",
       "    </tr>\n",
       "    <tr>\n",
       "      <th>8</th>\n",
       "      <td>8</td>\n",
       "      <td>52.530556</td>\n",
       "      <td>47.469444</td>\n",
       "      <td>1.741310</td>\n",
       "      <td>0.5328</td>\n",
       "      <td>958974</td>\n",
       "    </tr>\n",
       "    <tr>\n",
       "      <th>9</th>\n",
       "      <td>9</td>\n",
       "      <td>48.468937</td>\n",
       "      <td>51.531063</td>\n",
       "      <td>1.770949</td>\n",
       "      <td>0.5254</td>\n",
       "      <td>884825</td>\n",
       "    </tr>\n",
       "    <tr>\n",
       "      <th>10</th>\n",
       "      <td>10</td>\n",
       "      <td>44.721360</td>\n",
       "      <td>55.278640</td>\n",
       "      <td>1.838257</td>\n",
       "      <td>0.5105</td>\n",
       "      <td>816409</td>\n",
       "    </tr>\n",
       "    <tr>\n",
       "      <th>11</th>\n",
       "      <td>11</td>\n",
       "      <td>41.263541</td>\n",
       "      <td>58.736459</td>\n",
       "      <td>1.896348</td>\n",
       "      <td>0.4934</td>\n",
       "      <td>753280</td>\n",
       "    </tr>\n",
       "    <tr>\n",
       "      <th>12</th>\n",
       "      <td>12</td>\n",
       "      <td>38.073079</td>\n",
       "      <td>61.926921</td>\n",
       "      <td>1.934047</td>\n",
       "      <td>0.4846</td>\n",
       "      <td>695035</td>\n",
       "    </tr>\n",
       "    <tr>\n",
       "      <th>13</th>\n",
       "      <td>13</td>\n",
       "      <td>35.129300</td>\n",
       "      <td>64.870700</td>\n",
       "      <td>2.002405</td>\n",
       "      <td>0.4668</td>\n",
       "      <td>641292</td>\n",
       "    </tr>\n",
       "    <tr>\n",
       "      <th>14</th>\n",
       "      <td>14</td>\n",
       "      <td>32.413132</td>\n",
       "      <td>67.586868</td>\n",
       "      <td>2.080760</td>\n",
       "      <td>0.4432</td>\n",
       "      <td>591705</td>\n",
       "    </tr>\n",
       "    <tr>\n",
       "      <th>15</th>\n",
       "      <td>15</td>\n",
       "      <td>29.906976</td>\n",
       "      <td>70.093024</td>\n",
       "      <td>2.161542</td>\n",
       "      <td>0.4315</td>\n",
       "      <td>545952</td>\n",
       "    </tr>\n",
       "    <tr>\n",
       "      <th>16</th>\n",
       "      <td>16</td>\n",
       "      <td>27.594593</td>\n",
       "      <td>72.405407</td>\n",
       "      <td>2.360910</td>\n",
       "      <td>0.3832</td>\n",
       "      <td>503736</td>\n",
       "    </tr>\n",
       "    <tr>\n",
       "      <th>17</th>\n",
       "      <td>17</td>\n",
       "      <td>25.461002</td>\n",
       "      <td>74.538998</td>\n",
       "      <td>2.421207</td>\n",
       "      <td>0.3739</td>\n",
       "      <td>464785</td>\n",
       "    </tr>\n",
       "    <tr>\n",
       "      <th>18</th>\n",
       "      <td>18</td>\n",
       "      <td>23.492379</td>\n",
       "      <td>76.507621</td>\n",
       "      <td>2.565756</td>\n",
       "      <td>0.3392</td>\n",
       "      <td>428845</td>\n",
       "    </tr>\n",
       "    <tr>\n",
       "      <th>19</th>\n",
       "      <td>19</td>\n",
       "      <td>21.675968</td>\n",
       "      <td>78.324032</td>\n",
       "      <td>2.676196</td>\n",
       "      <td>0.3095</td>\n",
       "      <td>395684</td>\n",
       "    </tr>\n",
       "    <tr>\n",
       "      <th>20</th>\n",
       "      <td>20</td>\n",
       "      <td>20.000000</td>\n",
       "      <td>80.000000</td>\n",
       "      <td>2.545505</td>\n",
       "      <td>0.3369</td>\n",
       "      <td>365086</td>\n",
       "    </tr>\n",
       "  </tbody>\n",
       "</table>\n",
       "</div>"
      ],
      "text/plain": [
       "    prune_iter  pct_params  pct_pruned  val_loss  val_acc  total_params\n",
       "0            0  100.000000    0.000000  1.661085   0.5688       1825600\n",
       "1            1   92.268083    7.731917  1.673737   0.5743       1684443\n",
       "2            2   85.133992   14.866008  1.670693   0.5734       1554199\n",
       "3            3   78.551503   21.448497  1.664055   0.5702       1434025\n",
       "4            4   72.477966   27.522034  1.667381   0.5656       1323144\n",
       "5            5   66.874030   33.125970  1.669349   0.5628       1220836\n",
       "6            6   61.703386   38.296614  1.714879   0.5505       1126438\n",
       "7            7   56.932532   43.067468  1.718672   0.5480       1039339\n",
       "8            8   52.530556   47.469444  1.741310   0.5328        958974\n",
       "9            9   48.468937   51.531063  1.770949   0.5254        884825\n",
       "10          10   44.721360   55.278640  1.838257   0.5105        816409\n",
       "11          11   41.263541   58.736459  1.896348   0.4934        753280\n",
       "12          12   38.073079   61.926921  1.934047   0.4846        695035\n",
       "13          13   35.129300   64.870700  2.002405   0.4668        641292\n",
       "14          14   32.413132   67.586868  2.080760   0.4432        591705\n",
       "15          15   29.906976   70.093024  2.161542   0.4315        545952\n",
       "16          16   27.594593   72.405407  2.360910   0.3832        503736\n",
       "17          17   25.461002   74.538998  2.421207   0.3739        464785\n",
       "18          18   23.492379   76.507621  2.565756   0.3392        428845\n",
       "19          19   21.675968   78.324032  2.676196   0.3095        395684\n",
       "20          20   20.000000   80.000000  2.545505   0.3369        365086"
      ]
     },
     "execution_count": 45,
     "metadata": {},
     "output_type": "execute_result"
    }
   ],
   "source": [
    "df"
   ]
  },
  {
   "cell_type": "markdown",
   "id": "b66ab35a-baec-4d71-8baf-f5ebed42d8fe",
   "metadata": {},
   "source": [
    "# Plotting"
   ]
  },
  {
   "cell_type": "code",
   "execution_count": 89,
   "id": "defbdcdd-4991-4812-95fb-75cef56426d8",
   "metadata": {},
   "outputs": [],
   "source": [
    "pruned_pcts = [\n",
    "    round(100 * (1 - ((100 - PRUNE_ITER_PCT) / 100) ** i))\n",
    "    for i in range(1, PRUNE_ITERS + 1)\n",
    "]"
   ]
  },
  {
   "cell_type": "code",
   "execution_count": 90,
   "id": "f97339fc-8afc-455d-982c-03e5f18a2af5",
   "metadata": {},
   "outputs": [],
   "source": [
    "train_loss_dict = {}\n",
    "val_loss_dict = {}\n",
    "val_acc_dict = {}\n",
    "\n",
    "# load base model train stats, only last 20 epochs\n",
    "with open(\n",
    "    f\"{path}/train_logs/{LOAD_MODEL_NAME}_SEED_{SEED}_train_losses.json\", \"r\"\n",
    ") as f:\n",
    "    train_loss_dict[0] = json.load(f)[-len(train_loader) * 20 :]\n",
    "with open(\n",
    "    f\"{path}/train_logs/{LOAD_MODEL_NAME}_SEED_{SEED}_val_losses.json\", \"r\"\n",
    ") as f2:\n",
    "    val_loss_dict[0] = json.load(f2)[-20:]\n",
    "with open(\n",
    "    f\"{path}/train_logs/{LOAD_MODEL_NAME}_SEED_{SEED}_val_accuracies.json\", \"r\"\n",
    ") as f3:\n",
    "    val_acc_dict[0] = json.load(f3)[-20:]\n",
    "\n",
    "for i, prune_pct in enumerate(pruned_pcts, start=1):\n",
    "    with open(\n",
    "        f\"{path}/train_logs/{MODEL_NAME}_CURR_PRUNE_PCT_{prune_pct}_SEED_{SEED}_train_losses.json\",\n",
    "        \"r\",\n",
    "    ) as f:\n",
    "        train_loss_dict[i] = json.load(f)\n",
    "    with open(\n",
    "        f\"{path}/train_logs/{MODEL_NAME}_CURR_PRUNE_PCT_{prune_pct}_SEED_{SEED}_val_losses.json\",\n",
    "        \"r\",\n",
    "    ) as f2:\n",
    "        val_loss_dict[i] = json.load(f2)\n",
    "    with open(\n",
    "        f\"{path}/train_logs/{MODEL_NAME}_CURR_PRUNE_PCT_{prune_pct}_SEED_{SEED}_val_accuracies.json\",\n",
    "        \"r\",\n",
    "    ) as f3:\n",
    "        val_acc_dict[i] = json.load(f3)\n",
    "    # print(prune_pct)"
   ]
  },
  {
   "cell_type": "markdown",
   "id": "63287cc8-7d0a-4ede-a2b0-37f4c8e6744a",
   "metadata": {},
   "source": [
    "### Part I: Train vs. validation loss of differently pruned model size checkpoints"
   ]
  },
  {
   "cell_type": "code",
   "execution_count": 123,
   "id": "0436da70-3569-41e9-96d6-22c070a8fa73",
   "metadata": {},
   "outputs": [
    {
     "data": {
      "text/plain": [
       "Text(0.5, 1.0, 'Training Loss by Pruning Percent')"
      ]
     },
     "execution_count": 123,
     "metadata": {},
     "output_type": "execute_result"
    },
    {
     "data": {
      "image/png": "[encoded data removed]",
      "text/plain": [
       "<Figure size 640x480 with 1 Axes>"
      ]
     },
     "metadata": {},
     "output_type": "display_data"
    }
   ],
   "source": [
    "plt.plot(train_loss_dict[0], label=\"0\", alpha=0.5)\n",
    "plt.plot(train_loss_dict[3], label=pruned_pcts[2], alpha=0.5)\n",
    "plt.plot(train_loss_dict[5], label=pruned_pcts[4], alpha=0.5)\n",
    "plt.plot(train_loss_dict[10], label=pruned_pcts[9], alpha=0.5)\n",
    "plt.plot(train_loss_dict[20], label=pruned_pcts[19], alpha=0.5)\n",
    "plt.legend(title=\"Pruned Pct (%)\")\n",
    "plt.title(\"Training Loss by Pruning Percent\")"
   ]
  },
  {
   "cell_type": "markdown",
   "id": "8098b691-4c23-4a53-b1d3-b43535970b7c",
   "metadata": {},
   "source": [
    "### Part II: Validation accuracy across the pruned model checkpoints"
   ]
  },
  {
   "cell_type": "code",
   "execution_count": 122,
   "id": "8eb681ae-854e-458a-987e-c57f4dd77b47",
   "metadata": {},
   "outputs": [
    {
     "data": {
      "text/plain": [
       "Text(0.5, 1.0, 'Validation Accuracy by Pruning Percent')"
      ]
     },
     "execution_count": 122,
     "metadata": {},
     "output_type": "execute_result"
    },
    {
     "data": {
      "image/png": "[encoded data removed]",
      "text/plain": [
       "<Figure size 640x480 with 1 Axes>"
      ]
     },
     "metadata": {},
     "output_type": "display_data"
    }
   ],
   "source": [
    "plt.plot(val_acc_dict[0], label=\"0\", alpha=0.5)\n",
    "plt.plot(val_acc_dict[3], label=pruned_pcts[2], alpha=0.5)\n",
    "plt.plot(val_acc_dict[5], label=pruned_pcts[4], alpha=0.5)\n",
    "plt.plot(val_acc_dict[10], label=pruned_pcts[9], alpha=0.5)\n",
    "plt.plot(val_acc_dict[20], label=pruned_pcts[19], alpha=0.5)\n",
    "plt.legend(title=\"Pruned Pct (%)\")\n",
    "plt.title(\"Validation Accuracy by Pruning Percent\")"
   ]
  },
  {
   "cell_type": "markdown",
   "id": "63db4232-bcb1-4abc-8b5e-f9e5c9e816c2",
   "metadata": {},
   "source": [
    "Our model performed better when pruned roughly 20-30%, and performance only began suffering beyond this threshold."
   ]
  }
 ],
 "metadata": {
  "kernelspec": {
   "display_name": "Python 3 (ipykernel)",
   "language": "python",
   "name": "python3"
  },
  "language_info": {
   "codemirror_mode": {
    "name": "ipython",
    "version": 3
   },
   "file_extension": ".py",
   "mimetype": "text/x-python",
   "name": "python",
   "nbconvert_exporter": "python",
   "pygments_lexer": "ipython3",
   "version": "3.11.5"
  }
 },
 "nbformat": 4,
 "nbformat_minor": 5
}
